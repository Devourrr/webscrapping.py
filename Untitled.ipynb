{
 "cells": [
  {
   "cell_type": "code",
   "execution_count": 7,
   "metadata": {},
   "outputs": [],
   "source": [
    "# 이미지 다루기(처리)\n",
    "'''\n",
    "PIL 라이브러리 이용\n",
    "설치: pip install pillow\n",
    "'''\n",
    "\n",
    "from PIL import Image, ImageFilter, ImageDraw, ImageFont"
   ]
  },
  {
   "cell_type": "code",
   "execution_count": 2,
   "metadata": {},
   "outputs": [
    {
     "name": "stdout",
     "output_type": "stream",
     "text": [
      "Requirement already satisfied: pillow in c:\\users\\cjh\\anaconda3\\lib\\site-packages (8.0.1)\n",
      "Note: you may need to restart the kernel to use updated packages.\n"
     ]
    }
   ],
   "source": [
    "pip install pillow"
   ]
  },
  {
   "cell_type": "code",
   "execution_count": 10,
   "metadata": {},
   "outputs": [
    {
     "name": "stdout",
     "output_type": "stream",
     "text": [
      "JPEG\n",
      "(1000, 667)\n",
      "RGB\n"
     ]
    }
   ],
   "source": [
    "im = Image.open('original.jpg')\n",
    "print(im.format)\n",
    "print(im.size)\n",
    "print(im.mode)\n",
    "\n",
    "output = 'output.jpg'\n",
    "\n",
    "im.save(output)"
   ]
  },
  {
   "cell_type": "code",
   "execution_count": 12,
   "metadata": {},
   "outputs": [],
   "source": [
    "# 썸네일 생성\n",
    "im = Image.open('original.jpg')\n",
    "size = (64,64)\n",
    "\n",
    "im.thumbnail(size)\n",
    "im.save(output)\n",
    "\n",
    "temp = Image.open(output)"
   ]
  }
 ],
 "metadata": {
  "kernelspec": {
   "display_name": "Python 3",
   "language": "python",
   "name": "python3"
  },
  "language_info": {
   "codemirror_mode": {
    "name": "ipython",
    "version": 3
   },
   "file_extension": ".py",
   "mimetype": "text/x-python",
   "name": "python",
   "nbconvert_exporter": "python",
   "pygments_lexer": "ipython3",
   "version": "3.8.5"
  }
 },
 "nbformat": 4,
 "nbformat_minor": 4
}
