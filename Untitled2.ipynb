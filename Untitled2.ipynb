{
 "cells": [
  {
   "cell_type": "markdown",
   "metadata": {},
   "source": [
    "#BeautifulSoup 활용한 웹 스크래핑\n",
    "네이버 금융"
   ]
  },
  {
   "cell_type": "code",
   "execution_count": 6,
   "metadata": {},
   "outputs": [
    {
     "name": "stdout",
     "output_type": "stream",
     "text": [
      "<Response [200]>\n"
     ]
    }
   ],
   "source": [
    "import requests\n",
    "from bs4 import BeautifulSoup\n",
    "\n",
    "res = requests.get('https://finance.naver.com')\n",
    "print(res)\n",
    "\n",
    "bs = BeautifulSoup(res.text,'lxml') # html.parser\n",
    "\n"
   ]
  },
  {
   "cell_type": "code",
   "execution_count": 45,
   "metadata": {},
   "outputs": [
    {
     "ename": "TypeError",
     "evalue": "unsupported operand type(s) for -: 'str' and 'str'",
     "output_type": "error",
     "traceback": [
      "\u001b[1;31m---------------------------------------------------------------------------\u001b[0m",
      "\u001b[1;31mTypeError\u001b[0m                                 Traceback (most recent call last)",
      "\u001b[1;32m<ipython-input-45-0767561a4616>\u001b[0m in \u001b[0;36m<module>\u001b[1;34m\u001b[0m\n\u001b[0;32m     16\u001b[0m \u001b[1;33m\u001b[0m\u001b[0m\n\u001b[0;32m     17\u001b[0m \u001b[1;32mif\u001b[0m \u001b[0mitem_direction\u001b[0m \u001b[1;33m==\u001b[0m \u001b[1;34m'up'\u001b[0m\u001b[1;33m:\u001b[0m\u001b[1;33m\u001b[0m\u001b[1;33m\u001b[0m\u001b[0m\n\u001b[1;32m---> 18\u001b[1;33m     \u001b[0mitem_price_yesterday\u001b[0m \u001b[1;33m=\u001b[0m \u001b[0mitem_price\u001b[0m \u001b[1;33m-\u001b[0m \u001b[0mitem_diff\u001b[0m\u001b[1;33m\u001b[0m\u001b[1;33m\u001b[0m\u001b[0m\n\u001b[0m\u001b[0;32m     19\u001b[0m \u001b[1;32melse\u001b[0m\u001b[1;33m:\u001b[0m\u001b[1;33m\u001b[0m\u001b[1;33m\u001b[0m\u001b[0m\n\u001b[0;32m     20\u001b[0m     \u001b[0mitem_price_yesterday\u001b[0m \u001b[1;33m=\u001b[0m \u001b[0mitem_price\u001b[0m \u001b[1;33m+\u001b[0m \u001b[0mitem_diff\u001b[0m\u001b[1;33m\u001b[0m\u001b[1;33m\u001b[0m\u001b[0m\n",
      "\u001b[1;31mTypeError\u001b[0m: unsupported operand type(s) for -: 'str' and 'str'"
     ]
    }
   ],
   "source": [
    "tbody = bs.select_one('#container > div.aside > div.group_aside > div.aside_area.aside_popular > table > tbody')\n",
    "trs = tbody.select('tr')\n",
    "for tr in trs:\n",
    "    item_name = tr.select_one('th > a').get_text()\n",
    "    item_price = tr.select_one('td:nth-child(2)').get_text().replace(\",\",\"\")\n",
    "    \n",
    "    item_diff = tr.select_one('td:nth-child(3) > span').get_text().replace(\",\",\"\")\n",
    "    item_direction = tr['class'][0]\n",
    "#     print(item_name)\n",
    "    \n",
    "#     if item_direction == \"up\":\n",
    "#         print(\"증가\")\n",
    "#     elif item_direction == \"down\":\n",
    "#         print(\"감소\")\n",
    "#     print(tr)\n",
    "\n",
    "    if item_direction == 'up':\n",
    "        item_price_yesterday = item_price - item_diff\n",
    "    else:\n",
    "        item_price_yesterday = item_price + item_diff\n",
    "\n",
    "print(item_name, item_price,item_diff, item_direction, item_price_yesterday)\n",
    "\n"
   ]
  },
  {
   "cell_type": "markdown",
   "metadata": {},
   "source": [
    "## CSS Selector 문법"
   ]
  },
  {
   "cell_type": "markdown",
   "metadata": {},
   "source": [
    "## 위키백과 스크래핑"
   ]
  },
  {
   "cell_type": "code",
   "execution_count": 47,
   "metadata": {},
   "outputs": [
    {
     "name": "stdout",
     "output_type": "stream",
     "text": [
      "<Response [200]>\n"
     ]
    }
   ],
   "source": []
  },
  {
   "cell_type": "code",
   "execution_count": 65,
   "metadata": {},
   "outputs": [
    {
     "name": "stdout",
     "output_type": "stream",
     "text": [
      "검색 키워드:파이썬\n",
      "<Response [200]>\n",
      "1 개요\n",
      "2 역사\n",
      "\t2.1 파이썬 2\n",
      "\t2.2 파이썬 3\n",
      "\t2.3 인기\n",
      "3 기능과 철학\n",
      "\t3.1 라이브러리\n",
      "4 문법\n",
      "5 자료형\n",
      "6 동작하는 플랫폼\n",
      "7 한글 다루기\n",
      "8 사용 현황\n",
      "\t8.1 파이썬으로 작성된 자유-오픈 소스 소프트웨어\n",
      "\t8.2 파이썬을 내부적으로 사용하는 소프트웨어\n",
      "\t8.3 파이썬을 이용하고 있는 기업·정부 기관\n",
      "9 실행 속도 향상 관련\n",
      "10 비평\n",
      "11 같이 보기\n",
      "12 각주\n",
      "13 외부 링크\n"
     ]
    }
   ],
   "source": [
    "import requests\n",
    "from bs4 import BeautifulSoup\n",
    "\n",
    "keyword = input('검색 키워드:')\n",
    "res = requests.get(f'https://ko.wikipedia.org/wiki/{keyword}')\n",
    "print(res)\n",
    "\n",
    "bs = BeautifulSoup(res.text,'lxml') # html.parser\n",
    "\n",
    "ul = bs.select_one('#toc>ul') # toc 라는 ID를 갖는 요소\n",
    "contents = ul.select('li> a') # 부모 아래에 있는 a 자식 태그 찾기\n",
    "for content in contents:\n",
    "    #레벨별 들여쓰기 표현\n",
    "    tabs = content.get_text().count('.') * '\\t' # 숫자*문자->문자가 숫자만큼 반복\n",
    "    print(tabs + content.get_text() ) # 문자 + 문자 => 문자 이어서 붙임\n",
    "    \n",
    "    "
   ]
  }
 ],
 "metadata": {
  "kernelspec": {
   "display_name": "Python 3",
   "language": "python",
   "name": "python3"
  },
  "language_info": {
   "codemirror_mode": {
    "name": "ipython",
    "version": 3
   },
   "file_extension": ".py",
   "mimetype": "text/x-python",
   "name": "python",
   "nbconvert_exporter": "python",
   "pygments_lexer": "ipython3",
   "version": "3.8.5"
  }
 },
 "nbformat": 4,
 "nbformat_minor": 4
}
